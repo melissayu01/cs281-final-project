{
 "cells": [
  {
   "cell_type": "code",
   "execution_count": null,
   "metadata": {
    "collapsed": false
   },
   "outputs": [],
   "source": [
    "import pandas as pd\n",
    "import numpy as np"
   ]
  },
  {
   "cell_type": "code",
   "execution_count": null,
   "metadata": {
    "collapsed": false,
    "scrolled": false
   },
   "outputs": [],
   "source": [
    "fname = '20080103'\n",
    "\n",
    "df = pd.read_csv('../data/2008/01/' + fname + '.txt', \n",
    "                 delim_whitespace=True, header=None)\n",
    "\n",
    "# get labels and drop label + IP address + start time columns\n",
    "y = df[17].values\n",
    "df = df.drop([14, 15, 16, 17, 18, 20, 22], 1)\n",
    "\n",
    "obj_cols = df.columns[df.dtypes == np.dtype(object)]\n",
    "obj_df = df[obj_cols]\n",
    "num_df = df.drop(obj_cols, 1)\n",
    "num_cols = num_df.columns\n",
    "\n",
    "# one hot encode categorical variables (k-1 columns for k values)\n",
    "obj_df = pd.get_dummies(obj_df, drop_first=True)\n",
    "\n",
    "# normalize numerical columns\n",
    "def softmax(x):\n",
    "    e_x = np.exp(x - np.max(x))\n",
    "    return e_x / e_x.sum()\n",
    "def normalize(x):\n",
    "    return (x - x.min()) / (x.max() - x.min())\n",
    "num_df = num_df.apply(normalize, axis=0)\n",
    "\n",
    "# recombine\n",
    "df = pd.concat([num_df, obj_df], axis=1)\n",
    "y_values = [1, -1, -2] # safe, known attack, unknown attack\n",
    "df['label'] = [y_values.index(l) for l in y]\n",
    "\n",
    "# save\n",
    "train = np.random.rand(len(df)) < 0.6\n",
    "train_df, test_df = df.iloc[train], df.iloc[~train]\n",
    "train_df.to_csv('../data/cleaned/train.csv', header=False, index=False)\n",
    "test_df.to_csv('../data/cleaned/test.csv', header=False, index=False)\n",
    "\n",
    "print('total # of columns (incl. label): {}'.format(len(df.columns)))\n",
    "print(df.columns)"
   ]
  },
  {
   "cell_type": "code",
   "execution_count": 12,
   "metadata": {
    "collapsed": false
   },
   "outputs": [
    {
     "ename": "NameError",
     "evalue": "name 'df' is not defined",
     "output_type": "error",
     "traceback": [
      "\u001b[0;31m---------------------------------------------------------------------------\u001b[0m",
      "\u001b[0;31mNameError\u001b[0m                                 Traceback (most recent call last)",
      "\u001b[0;32m<ipython-input-12-6a4642092433>\u001b[0m in \u001b[0;36m<module>\u001b[0;34m()\u001b[0m\n\u001b[0;32m----> 1\u001b[0;31m \u001b[0mdf\u001b[0m\u001b[0;34m.\u001b[0m\u001b[0mcolumns\u001b[0m\u001b[0;34m\u001b[0m\u001b[0m\n\u001b[0m",
      "\u001b[0;31mNameError\u001b[0m: name 'df' is not defined"
     ]
    }
   ],
   "source": [
    "df.columns"
   ]
  },
  {
   "cell_type": "code",
   "execution_count": null,
   "metadata": {
    "collapsed": true
   },
   "outputs": [],
   "source": []
  }
 ],
 "metadata": {
  "anaconda-cloud": {},
  "kernelspec": {
   "display_name": "Python [python3]",
   "language": "python",
   "name": "Python [python3]"
  },
  "language_info": {
   "codemirror_mode": {
    "name": "ipython",
    "version": 3
   },
   "file_extension": ".py",
   "mimetype": "text/x-python",
   "name": "python",
   "nbconvert_exporter": "python",
   "pygments_lexer": "ipython3",
   "version": "3.6.0"
  }
 },
 "nbformat": 4,
 "nbformat_minor": 0
}
